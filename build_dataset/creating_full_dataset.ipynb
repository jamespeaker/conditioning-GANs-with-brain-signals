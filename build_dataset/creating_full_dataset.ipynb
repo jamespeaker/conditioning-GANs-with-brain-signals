{
 "cells": [
  {
   "cell_type": "markdown",
   "metadata": {},
   "source": [
    "# Converting Raw Images to Numpy"
   ]
  },
  {
   "cell_type": "code",
   "execution_count": 1,
   "metadata": {},
   "outputs": [
    {
     "name": "stderr",
     "output_type": "stream",
     "text": [
      "Using TensorFlow backend.\n",
      "C:\\Users\\James Peaker\\AnacondaInstalledHere\\lib\\site-packages\\tensorflow\\python\\framework\\dtypes.py:526: FutureWarning: Passing (type, 1) or '1type' as a synonym of type is deprecated; in a future version of numpy, it will be understood as (type, (1,)) / '(1,)type'.\n",
      "  _np_qint8 = np.dtype([(\"qint8\", np.int8, 1)])\n",
      "C:\\Users\\James Peaker\\AnacondaInstalledHere\\lib\\site-packages\\tensorflow\\python\\framework\\dtypes.py:527: FutureWarning: Passing (type, 1) or '1type' as a synonym of type is deprecated; in a future version of numpy, it will be understood as (type, (1,)) / '(1,)type'.\n",
      "  _np_quint8 = np.dtype([(\"quint8\", np.uint8, 1)])\n",
      "C:\\Users\\James Peaker\\AnacondaInstalledHere\\lib\\site-packages\\tensorflow\\python\\framework\\dtypes.py:528: FutureWarning: Passing (type, 1) or '1type' as a synonym of type is deprecated; in a future version of numpy, it will be understood as (type, (1,)) / '(1,)type'.\n",
      "  _np_qint16 = np.dtype([(\"qint16\", np.int16, 1)])\n",
      "C:\\Users\\James Peaker\\AnacondaInstalledHere\\lib\\site-packages\\tensorflow\\python\\framework\\dtypes.py:529: FutureWarning: Passing (type, 1) or '1type' as a synonym of type is deprecated; in a future version of numpy, it will be understood as (type, (1,)) / '(1,)type'.\n",
      "  _np_quint16 = np.dtype([(\"quint16\", np.uint16, 1)])\n",
      "C:\\Users\\James Peaker\\AnacondaInstalledHere\\lib\\site-packages\\tensorflow\\python\\framework\\dtypes.py:530: FutureWarning: Passing (type, 1) or '1type' as a synonym of type is deprecated; in a future version of numpy, it will be understood as (type, (1,)) / '(1,)type'.\n",
      "  _np_qint32 = np.dtype([(\"qint32\", np.int32, 1)])\n",
      "C:\\Users\\James Peaker\\AnacondaInstalledHere\\lib\\site-packages\\tensorflow\\python\\framework\\dtypes.py:535: FutureWarning: Passing (type, 1) or '1type' as a synonym of type is deprecated; in a future version of numpy, it will be understood as (type, (1,)) / '(1,)type'.\n",
      "  np_resource = np.dtype([(\"resource\", np.ubyte, 1)])\n",
      "C:\\Users\\James Peaker\\AnacondaInstalledHere\\lib\\site-packages\\PIL\\TiffImagePlugin.py:788: UserWarning: Corrupt EXIF data.  Expecting to read 4 bytes but only got 0. \n",
      "  warnings.warn(str(msg))\n",
      "C:\\Users\\James Peaker\\AnacondaInstalledHere\\lib\\site-packages\\PIL\\TiffImagePlugin.py:788: UserWarning: Corrupt EXIF data.  Expecting to read 12 bytes but only got 4. \n",
      "  warnings.warn(str(msg))\n",
      "C:\\Users\\James Peaker\\AnacondaInstalledHere\\lib\\site-packages\\PIL\\TiffImagePlugin.py:770: UserWarning: Possibly corrupt EXIF data.  Expecting to read 8 bytes but only got 2. Skipping tag 41487\n",
      "  \" Skipping tag %s\" % (size, len(data), tag)\n",
      "C:\\Users\\James Peaker\\AnacondaInstalledHere\\lib\\site-packages\\PIL\\TiffImagePlugin.py:770: UserWarning: Possibly corrupt EXIF data.  Expecting to read 8 bytes but only got 0. Skipping tag 41988\n",
      "  \" Skipping tag %s\" % (size, len(data), tag)\n"
     ]
    }
   ],
   "source": [
    "import os\n",
    "from keras.preprocessing.image import load_img\n",
    "from keras.preprocessing.image import img_to_array\n",
    "import numpy as np\n",
    "\n",
    "def get_all_image_dir_names():\n",
    "    \"\"\"\n",
    "    Function to get a List of all the Directories Containing Images to Convert.\n",
    "    \n",
    "    In the folder raw_images we have sub-folders such as 'airliner' which \n",
    "    contain jpeg images for that class. This function returns a list of \n",
    "    these sub-folders.\n",
    "    \"\"\"\n",
    "    path = \"raw_images\"\n",
    "    return os.listdir(path)\n",
    "\n",
    "\n",
    "def convert_dir_to_imgs(img_dir):\n",
    "    \"\"\"\n",
    "    Function to Convert all Images in a Directory to Numpy Images.\n",
    "    \n",
    "    Say we have a directory such as 'airliner' which contains all raw images\n",
    "    of airliners. This function converts these raw images into a list of\n",
    "    64x64x3 numpy arrays.\n",
    "    \"\"\"\n",
    "    \n",
    "    path = \"raw_images/\" + img_dir\n",
    "    #print(path)\n",
    "    # get file names\n",
    "    img_name_list = os.listdir(path)\n",
    "    img_shape=(64,64,3)\n",
    "    images = []\n",
    "    \n",
    "    for i, img_name in enumerate(img_name_list):\n",
    "        #print(i, img_name)\n",
    "        image = load_img(path + \"/\" + img_name, target_size=img_shape[:2])\n",
    "        image = img_to_array(image)/255\n",
    "        images.append(image)\n",
    "    images = np.array(images)\n",
    "  \n",
    "    return images\n",
    "\n",
    "\n",
    "def convert_all_images_to_numpy():\n",
    "    \"\"\"\n",
    "    Function to Convert and Save all Images to 64x64x3 Numpy Images.\n",
    "    \n",
    "    This function goes through each directory (e.g. 'airliner') and converts\n",
    "    all the images in each directory to a numpy array containing all the\n",
    "    64x64x3 images. It saves the numpy array into the folder numpy_images.\n",
    "    For example, all airliner images are saved as img_airliner.npy.\n",
    "    \"\"\"\n",
    "    # get all directory names\n",
    "    all_image_classes_string = get_all_image_dir_names()\n",
    "    \n",
    "    # loop through directories and save numpy images\n",
    "    for image_class_name in all_image_classes_string:\n",
    "        # name for the numpy array containing all 64x64x3 images\n",
    "        numpy_image_file_name = 'img_' + image_class_name + '.npy'\n",
    "        save_path = 'numpy_images/' + numpy_image_file_name\n",
    "        \n",
    "        np.save(save_path, convert_dir_to_imgs(image_class_name))\n",
    "        \n",
    "convert_all_images_to_numpy()"
   ]
  },
  {
   "cell_type": "markdown",
   "metadata": {},
   "source": [
    "### Test"
   ]
  },
  {
   "cell_type": "code",
   "execution_count": 2,
   "metadata": {},
   "outputs": [
    {
     "data": {
      "image/png": "[encoded data removed]",
      "text/plain": [
       "<Figure size 432x288 with 1 Axes>"
      ]
     },
     "metadata": {
      "needs_background": "light"
     },
     "output_type": "display_data"
    }
   ],
   "source": [
    "import matplotlib.pyplot as plt\n",
    "\n",
    "img_airliner = np.load('numpy_images/img_airliner.npy')\n",
    "fig = plt.figure\n",
    "plt.imshow(img_airliner[0])\n",
    "plt.show()"
   ]
  },
  {
   "cell_type": "markdown",
   "metadata": {},
   "source": [
    "# Loading in the EEG Embeddings and Images\n",
    "\n",
    "For each image, we want a label (one-hot-encoded) and the EEG embedding."
   ]
  },
  {
   "cell_type": "markdown",
   "metadata": {},
   "source": [
    "### Make a Numpy Array Containing all EEG Embeddings"
   ]
  },
  {
   "cell_type": "code",
   "execution_count": 5,
   "metadata": {},
   "outputs": [],
   "source": [
    "eeg_emb_path = '../aquire_eeg_embeddings/EEG_embeddings/'\n",
    "\n",
    "all_eeg_embeddings_np = np.array(\n",
    "    [\n",
    "        np.load(eeg_emb_path + 'eeg_emb_airliner.npy'),\n",
    "        np.load(eeg_emb_path + 'eeg_emb_banana.npy'),\n",
    "        np.load(eeg_emb_path + 'eeg_emb_bolete.npy'),\n",
    "        np.load(eeg_emb_path + 'eeg_emb_broom.npy'),\n",
    "        np.load(eeg_emb_path + 'eeg_emb_lycaenid_butterfly.npy'),\n",
    "        np.load(eeg_emb_path + 'eeg_emb_convertible.npy'),\n",
    "        np.load(eeg_emb_path + 'eeg_emb_daisy.npy'),\n",
    "        np.load(eeg_emb_path + 'eeg_emb_egyptian_cat.npy'),\n",
    "        np.load(eeg_emb_path + 'eeg_emb_german_shepherd.npy'),\n",
    "        np.load(eeg_emb_path + 'eeg_emb_golf_ball.npy'),\n",
    "        np.load(eeg_emb_path + 'eeg_emb_electric_guitar.npy'),\n",
    "        np.load(eeg_emb_path + 'eeg_emb_iron.npy'),\n",
    "        np.load(eeg_emb_path + 'eeg_emb_jack-o-lantern.npy'),\n",
    "        np.load(eeg_emb_path + 'eeg_emb_missile.npy'),\n",
    "        np.load(eeg_emb_path + 'eeg_emb_mitten.npy'),\n",
    "        np.load(eeg_emb_path + 'eeg_emb_panda.npy'),\n",
    "        np.load(eeg_emb_path + 'eeg_emb_cellphone.npy'),\n",
    "        np.load(eeg_emb_path + 'eeg_emb_piano.npy'),\n",
    "        np.load(eeg_emb_path + 'eeg_emb_radio_telescope.npy'),\n",
    "        np.load(eeg_emb_path + 'eeg_emb_running_shoe.npy')\n",
    "    ]\n",
    ")"
   ]
  },
  {
   "cell_type": "markdown",
   "metadata": {},
   "source": [
    "### Make a Numpy Array Containing all Images"
   ]
  },
  {
   "cell_type": "code",
   "execution_count": 4,
   "metadata": {},
   "outputs": [],
   "source": [
    "image_path = \"numpy_images/\"\n",
    "\n",
    "all_images_np = np.array(\n",
    "    [\n",
    "        np.load(image_path + 'img_airliner.npy'),\n",
    "        np.load(image_path + 'img_banana.npy'),\n",
    "        np.load(image_path + 'img_bolete.npy'),\n",
    "        np.load(image_path + 'img_broom.npy'),\n",
    "        np.load(image_path + 'img_butterfly.npy'),\n",
    "        np.load(image_path + 'img_convertible.npy'),\n",
    "        np.load(image_path + 'img_daisy.npy'),\n",
    "        np.load(image_path + 'img_egyptian_cat.npy'),\n",
    "        np.load(image_path + 'img_german_sheps.npy'),\n",
    "        np.load(image_path + 'img_golf_balls.npy'),\n",
    "        np.load(image_path + 'img_guitar.npy'),\n",
    "        np.load(image_path + 'img_iron.npy'),\n",
    "        np.load(image_path + 'img_jack-o-lantern.npy'),\n",
    "        np.load(image_path + 'img_missile.npy'),\n",
    "        np.load(image_path + 'img_mitten.npy'),\n",
    "        np.load(image_path + 'img_panda.npy'),\n",
    "        np.load(image_path + 'img_phone.npy'),\n",
    "        np.load(image_path + 'img_piano.npy'),\n",
    "        np.load(image_path + 'img_radio_telescope.npy'),\n",
    "        np.load(image_path + 'img_shoe.npy')\n",
    "    ]\n",
    ")"
   ]
  },
  {
   "cell_type": "markdown",
   "metadata": {},
   "source": [
    "### Make a Numpy Array Containing One-hot Encoded Labels"
   ]
  },
  {
   "cell_type": "code",
   "execution_count": 5,
   "metadata": {},
   "outputs": [],
   "source": [
    "lab_airliner =         np.array([1,0,0,0,0,0,0,0,0,0,0,0,0,0,0,0,0,0,0,0])\n",
    "lab_banana =           np.array([0,1,0,0,0,0,0,0,0,0,0,0,0,0,0,0,0,0,0,0])\n",
    "lab_bolete =           np.array([0,0,1,0,0,0,0,0,0,0,0,0,0,0,0,0,0,0,0,0])\n",
    "lab_broom =            np.array([0,0,0,1,0,0,0,0,0,0,0,0,0,0,0,0,0,0,0,0])\n",
    "lab_butterfly =        np.array([0,0,0,0,1,0,0,0,0,0,0,0,0,0,0,0,0,0,0,0])\n",
    "lab_convertible =      np.array([0,0,0,0,0,1,0,0,0,0,0,0,0,0,0,0,0,0,0,0])\n",
    "lab_daisy =            np.array([0,0,0,0,0,0,1,0,0,0,0,0,0,0,0,0,0,0,0,0])\n",
    "lab_egyptian_cat =     np.array([0,0,0,0,0,0,0,1,0,0,0,0,0,0,0,0,0,0,0,0])\n",
    "lab_german_sheps =     np.array([0,0,0,0,0,0,0,0,1,0,0,0,0,0,0,0,0,0,0,0])\n",
    "lab_golf_balls =       np.array([0,0,0,0,0,0,0,0,0,1,0,0,0,0,0,0,0,0,0,0])\n",
    "lab_guitar =           np.array([0,0,0,0,0,0,0,0,0,0,1,0,0,0,0,0,0,0,0,0])\n",
    "lab_iron =             np.array([0,0,0,0,0,0,0,0,0,0,0,1,0,0,0,0,0,0,0,0])\n",
    "lab_jack_o_lantern =   np.array([0,0,0,0,0,0,0,0,0,0,0,0,1,0,0,0,0,0,0,0])\n",
    "lab_missile =          np.array([0,0,0,0,0,0,0,0,0,0,0,0,0,1,0,0,0,0,0,0])\n",
    "lab_mitten =           np.array([0,0,0,0,0,0,0,0,0,0,0,0,0,0,1,0,0,0,0,0])\n",
    "lab_panda =            np.array([0,0,0,0,0,0,0,0,0,0,0,0,0,0,0,1,0,0,0,0])\n",
    "lab_phone =            np.array([0,0,0,0,0,0,0,0,0,0,0,0,0,0,0,0,1,0,0,0])\n",
    "lab_piano =            np.array([0,0,0,0,0,0,0,0,0,0,0,0,0,0,0,0,0,1,0,0])\n",
    "lab_radio_telescope =  np.array([0,0,0,0,0,0,0,0,0,0,0,0,0,0,0,0,0,0,1,0])\n",
    "lab_shoe =             np.array([0,0,0,0,0,0,0,0,0,0,0,0,0,0,0,0,0,0,0,1])\n",
    "\n",
    "\n",
    "all_labels_np = np.array(\n",
    "    [\n",
    "        lab_airliner,\n",
    "        lab_banana,\n",
    "        lab_bolete,\n",
    "        lab_broom,\n",
    "        lab_butterfly,\n",
    "        lab_convertible,\n",
    "        lab_daisy,\n",
    "        lab_egyptian_cat,\n",
    "        lab_german_sheps,\n",
    "        lab_golf_balls,\n",
    "        lab_guitar,\n",
    "        lab_iron,\n",
    "        lab_jack_o_lantern,\n",
    "        lab_missile,\n",
    "        lab_mitten,\n",
    "        lab_panda,\n",
    "        lab_phone,\n",
    "        lab_piano,\n",
    "        lab_radio_telescope,\n",
    "        lab_shoe\n",
    "    ]\n",
    ")"
   ]
  },
  {
   "cell_type": "markdown",
   "metadata": {},
   "source": [
    "# Creating the Dataset"
   ]
  },
  {
   "cell_type": "markdown",
   "metadata": {},
   "source": [
    "### Creating the Unshuffled Dataset"
   ]
  },
  {
   "cell_type": "code",
   "execution_count": 6,
   "metadata": {},
   "outputs": [],
   "source": [
    "tot_num_images = sum([i.shape[0] for i in all_images_np])\n",
    "num_classes=20\n",
    "eeg_embedding_dim=126\n",
    "\n",
    "dataset = [np.zeros((tot_num_images,num_classes)),np.zeros((tot_num_images,eeg_embedding_dim)),np.zeros((tot_num_images,64,64,3))]\n",
    "\n",
    "\n",
    "ix = 0\n",
    "\n",
    "for img_class in np.arange(20):\n",
    "  # get number of images\n",
    "  num_images = all_images_np[img_class].shape[0]\n",
    "    \n",
    "  # fill in dataset with the images along with num_images amount of embeddings and labels\n",
    "  for img_ix in np.arange(num_images):\n",
    "    #fill in labels\n",
    "    dataset[0][ix] = all_labels_np[img_class] \n",
    "    # fill in eeg embeddings\n",
    "    dataset[1][ix] = all_eeg_embeddings_np[img_class]\n",
    "    # fill in images\n",
    "    dataset[2][ix] = all_images_np[img_class][img_ix]\n",
    "    ix=ix+1"
   ]
  },
  {
   "cell_type": "markdown",
   "metadata": {},
   "source": [
    "### Shuffle the Data and Save it"
   ]
  },
  {
   "cell_type": "code",
   "execution_count": null,
   "metadata": {},
   "outputs": [],
   "source": [
    "shuffle_indices = np.arange(tot_num_images)\n",
    "np.random.shuffle(shuffle_indices)\n",
    "\n",
    "d0 = dataset[0][shuffle_indices]\n",
    "d1 = dataset[1][shuffle_indices]\n",
    "d2 = dataset[2][shuffle_indices]\n",
    "dataset_shuf = [d0,d1,d2]\n",
    "\n",
    "import pickle as pkl\n",
    "with open('dataset_shuf.pkl', 'wb') as f:\n",
    "  pkl.dump(dataset_shuf, f)"
   ]
  },
  {
   "cell_type": "markdown",
   "metadata": {},
   "source": [
    "### Also Save a List of all EEG Embeddings"
   ]
  },
  {
   "cell_type": "code",
   "execution_count": 6,
   "metadata": {},
   "outputs": [],
   "source": [
    "with open('all_eeg_embeddings.pkl', 'wb') as f:\n",
    "  pkl.dump(all_eeg_embeddings_np, f)"
   ]
  }
 ],
 "metadata": {
  "kernelspec": {
   "display_name": "Python 3",
   "language": "python",
   "name": "python3"
  },
  "language_info": {
   "codemirror_mode": {
    "name": "ipython",
    "version": 3
   },
   "file_extension": ".py",
   "mimetype": "text/x-python",
   "name": "python",
   "nbconvert_exporter": "python",
   "pygments_lexer": "ipython3",
   "version": "3.7.1"
  }
 },
 "nbformat": 4,
 "nbformat_minor": 4
}
