{
 "cells": [
  {
   "cell_type": "markdown",
   "metadata": {},
   "source": [
    "# Load in EEG Dataset"
   ]
  },
  {
   "cell_type": "markdown",
   "metadata": {},
   "source": [
    "### Dataset and Splitter Class\n",
    "\n",
    "Classes to allow us to work with the pth file containing the EEG and labels."
   ]
  },
  {
   "cell_type": "code",
   "execution_count": 1,
   "metadata": {},
   "outputs": [],
   "source": [
    "class EEGDataset:\n",
    "    \"\"\"\n",
    "    The EEG dataset is a class that allows us to load in the pth file and extract the EEG data,\n",
    "    the image associated with the EEG and the label. It also has information on the mean and \n",
    "    std of the EEG data so that the data can be standardised.\n",
    "    \"\"\"\n",
    "\n",
    "    def __init__(self, eeg_data_file):\n",
    "        \"\"\"\n",
    "        Extracts information out of the pth file.\n",
    "        \"\"\"\n",
    "        loaded = eeg_data_file\n",
    "        self.data = loaded[\"dataset\"]\n",
    "        self.labels = loaded[\"labels\"]\n",
    "        self.images = loaded[\"images\"]\n",
    "        self.means = loaded[\"means\"]\n",
    "        self.stddevs = loaded[\"stddevs\"]\n",
    "        self.size = len(self.data)\n",
    "\n",
    "\n",
    "    def __len__(self):\n",
    "        return self.size\n",
    "\n",
    "\n",
    "    def __getitem__(self, i):\n",
    "        \"\"\"\n",
    "        Returns an EEG time series that has been standardised and has the ends clipped.\n",
    "        \"\"\"\n",
    "        eeg = ((self.data[i][\"eeg\"].float() - self.means) / self.stddevs)  # .t() # CxT\n",
    "        eeg = eeg.t()\n",
    "        eeg = eeg[20:450, :]\n",
    "        label = self.data[i][\"label\"]\n",
    "        return eeg, label\n",
    "\n",
    "\n",
    "\n",
    "class Splitter:\n",
    "    \"\"\"\n",
    "    Class used in the dataset argument in the PyTorch DataLoader object. This allows for the\n",
    "    EEG data and label to be given.\n",
    "    \"\"\"\n",
    "\n",
    "    def __init__(self, dataset, split_path, split_num=0, split_name=\"train\"):\n",
    "        \"\"\"\n",
    "        Load in the pth file defining the splits and filter out data to avoid.\n",
    "        \"\"\"\n",
    "        self.dataset = dataset\n",
    "        loaded = split_path\n",
    "        self.split_idx = loaded[\"splits\"][split_num][split_name]\n",
    "        self.split_idx = [i for i in self.split_idx if 450 <= self.dataset.data[i][\"eeg\"].size(1) <= 600]\n",
    "        self.size = len(self.split_idx)\n",
    "\n",
    "    def __len__(self):\n",
    "        return self.size\n",
    "\n",
    "\n",
    "    def __getitem__(self, i):\n",
    "        \"\"\"\n",
    "        Return the EEG data and the associated label (image class).\n",
    "        \"\"\"\n",
    "        eeg, label = self.dataset[self.split_idx[i]]\n",
    "        return eeg, label"
   ]
  },
  {
   "cell_type": "markdown",
   "metadata": {},
   "source": [
    "### Load in Dataset and Splitter\n",
    "\n",
    "Create the loaders variable to be used later on in training to load in train/test/eval data."
   ]
  },
  {
   "cell_type": "code",
   "execution_count": 2,
   "metadata": {},
   "outputs": [],
   "source": [
    "import torch\n",
    "from torch.utils.data import DataLoader\n",
    "\n",
    "splits_by_image_file = torch.load('split_by_image.pth')\n",
    "eeg_data_file = torch.load('eeg_dataset.pth')\n",
    "dataset = EEGDataset(eeg_data_file)\n",
    "mini_batch = 16\n",
    "\n",
    "loaders = {\n",
    "    split: DataLoader\n",
    "    (\n",
    "        dataset = Splitter\n",
    "        (\n",
    "            dataset=dataset,\n",
    "            split_path=splits_by_image_file,\n",
    "            split_num=0, \n",
    "            split_name=split\n",
    "        ),\n",
    "        batch_size=mini_batch, \n",
    "        drop_last=True, \n",
    "        shuffle=True\n",
    "    ) \n",
    "    for split in [\"train\", \"val\", \"test\"]\n",
    "}"
   ]
  },
  {
   "cell_type": "markdown",
   "metadata": {},
   "source": [
    "# Train the RNN Encoder\n",
    "\n",
    "Train the model to correctly classify what class of image was being observed by the participant."
   ]
  },
  {
   "cell_type": "markdown",
   "metadata": {},
   "source": [
    "### Encoder\n",
    "\n"
   ]
  },
  {
   "cell_type": "code",
   "execution_count": 3,
   "metadata": {},
   "outputs": [],
   "source": [
    "import torch.nn as nn\n",
    "\n",
    "class EEGClassifier(nn.Module):\n",
    "    \"\"\"\n",
    "    The LSTM RRN PyTorch model used in this classification process. \n",
    "    \"\"\"\n",
    "\n",
    "    def __init__(self, input_size, lstm_size, lstm_layers, embedding_size, num_classes):\n",
    "        \"\"\"\n",
    "        Defining the layers to be used in the RNN.\n",
    "        \"\"\"\n",
    "        super().__init__()\n",
    "        self.lstm = nn.LSTM(input_size, lstm_size, num_layers=lstm_layers, batch_first=True)\n",
    "        self.embedding = nn.Linear(lstm_size, embedding_size)\n",
    "        self.classifier = nn.Linear(embedding_size, num_classes)\n",
    "\n",
    "    def forward(self, x):\n",
    "        \"\"\"\n",
    "        The forward pass of the encoder. The LSTM takes the data and we take the final state (-1)\n",
    "        of this. We then get the embedding of this which will later on be the embedding used in \n",
    "        the GAN conditioning, but for now is used by a linear layer (self.classifier) to classify\n",
    "        the image class.\n",
    "        \n",
    "        param x: eeg time series.\n",
    "        \n",
    "        return: num_classes-length vector, the argmax of this is the image class (the label).\n",
    "        \"\"\"\n",
    "        x = self.lstm(x)[0][:, -1, :]\n",
    "        emb = F.relu(self.embedding(x))\n",
    "        x = self.classifier(emb)\n",
    "        return x"
   ]
  },
  {
   "cell_type": "markdown",
   "metadata": {},
   "source": [
    "### Training Function"
   ]
  },
  {
   "cell_type": "code",
   "execution_count": 4,
   "metadata": {},
   "outputs": [],
   "source": [
    "import numpy as np\n",
    "import torch.nn.functional as F\n",
    "import matplotlib.pyplot as plt\n",
    "\n",
    "\n",
    "def plot_loss(epochsToPlot, trLoss, vaLoss):\n",
    "    \"\"\"\n",
    "    Function to plot the losses. \n",
    "    \"\"\"\n",
    "    print(\"Performance:\")\n",
    "    plt.plot(epochsToPlot, trLoss, label='Training Loss')\n",
    "    plt.plot(epochsToPlot, vaLoss, label='Validation Loss')\n",
    "    plt.legend()\n",
    "    plt.xlabel('Epoch')\n",
    "    plt.ylabel('Loss')\n",
    "    plt.show()\n",
    "    \n",
    "\n",
    "def train(epochs, printLossesAtEpoch, lstm_units, lstm_layers, embedding_size, num_classes, mini_batch):\n",
    "    \"\"\"\n",
    "    Function to train the encoder. \n",
    "    \n",
    "    This method instantiates the model and some empty arrays in which the losses will be appended to.\n",
    "    It then goes through the test/train/val split, training the model on the training set. At the end\n",
    "    of the epoch it saves the loss progress, prints the performance and saves the model.\n",
    "    \n",
    "    param epochs: the input to the activation\n",
    "    param printLossesAtEpoch: the number of epochs before a the loss is plotted.\n",
    "    param lstm_units: amount of lstm units per layer.\n",
    "    param lstm_layers: amount of lstm layers.\n",
    "    param embedding_size: embedding size we want the EEG to be embedded in.\n",
    "    param num_classes: number of image classes.\n",
    "    param mini_batch: the input to the activation\n",
    "    \"\"\"\n",
    "    \n",
    "    model = EEGClassifier(128, lstm_units, lstm_layers, embedding_size, num_classes)  \n",
    "    optimizer = getattr(torch.optim, \"Adam\")(model.parameters(), lr=0.001)\n",
    "    # Set up arrays to use to store performance\n",
    "    trLoss = np.array([])\n",
    "    vaLoss = np.array([])\n",
    "    \n",
    "    # Start training\n",
    "    for epoch in range(1, epochs + 1):\n",
    "        # Initialize loss/accuracy variables\n",
    "        losses = {\"train\": 0, \"val\": 0, \"test\": 0}\n",
    "        accuracies = {\"train\": 0, \"val\": 0, \"test\": 0}\n",
    "        counts = {\"train\": 0, \"val\": 0, \"test\": 0}\n",
    "        # Process each split\n",
    "        for split in (\"train\", \"val\", \"test\"):\n",
    "            # Set network mode\n",
    "            if split == \"train\":\n",
    "                model.train()\n",
    "                torch.set_grad_enabled(True)\n",
    "            else:\n",
    "                model.eval()\n",
    "                torch.set_grad_enabled(False)\n",
    "            # Process all split batches\n",
    "            for i, (input, target) in enumerate(loaders[split]):\n",
    "                # Forward\n",
    "                output = model(input)\n",
    "                loss = F.cross_entropy(output, target)\n",
    "                losses[split] += loss.item()\n",
    "                # Compute accuracy\n",
    "                _, pred = output.data.max(1)\n",
    "                correct = pred.eq(target.data).sum().item()\n",
    "                accuracy = correct / input.data.size(0)\n",
    "                accuracies[split] += accuracy\n",
    "                counts[split] += 1\n",
    "                # Backward and optimize\n",
    "                if split == \"train\":\n",
    "                    optimizer.zero_grad()\n",
    "                    loss.backward()\n",
    "                    optimizer.step()\n",
    "      \n",
    "        # print progress\n",
    "        print(\"Epoch {0}: TrL={1:.4f}, TrA={2:.4f}, VL={3:.4f}, VA={4:.4f}, TeL={5:.4f}, TeA={6:.4f}\".format(\n",
    "            epoch,\n",
    "            losses[\"train\"] /counts[\"train\"],\n",
    "            accuracies[\"train\"] /counts[\"train\"],\n",
    "            losses[\"val\"] /counts[\"val\"],\n",
    "            accuracies[\"val\"] /counts[\"val\"],\n",
    "            losses[\"test\"] /counts[\"test\"],\n",
    "            accuracies[\"test\"] /counts[\"test\"]))\n",
    "        \n",
    "        \n",
    "        # Now add the training loss, val loss and epoch to an np array - this is for plotting\n",
    "        trLoss = np.append(trLoss, losses[\"train\"] / counts[\"train\"])\n",
    "        vaLoss = np.append(vaLoss, losses[\"val\"] / counts[\"val\"])\n",
    "        numEpochs = trLoss.shape[0]\n",
    "        epochsToPlot = np.linspace(1, numEpochs, numEpochs)\n",
    "    \n",
    "        # plot\n",
    "        if epoch % printLossesAtEpoch == 0:\n",
    "            plot_loss(epochsToPlot, trLoss, vaLoss)\n",
    "\n",
    "      \n",
    "        # save the model \n",
    "        file_name = 'encoder_model.pth'\n",
    "        torch.save(model.state_dict(), file_name)"
   ]
  },
  {
   "cell_type": "markdown",
   "metadata": {},
   "source": [
    "### Training"
   ]
  },
  {
   "cell_type": "code",
   "execution_count": 5,
   "metadata": {},
   "outputs": [
    {
     "name": "stdout",
     "output_type": "stream",
     "text": [
      "Epoch 1: TrL=2.7600, TrA=0.1870, VL=1.9650, VA=0.3548, TeL=1.9655, TeA=0.3311\n",
      "Epoch 2: TrL=1.7561, TrA=0.4117, VL=1.5824, VA=0.4496, TeL=1.5668, TeA=0.4637\n",
      "Epoch 3: TrL=1.5191, TrA=0.5074, VL=1.3388, VA=0.5408, TeL=1.3451, TeA=0.5519\n",
      "Epoch 4: TrL=1.0548, TrA=0.6395, VL=1.0593, VA=0.6331, TeL=1.0256, TeA=0.6547\n",
      "Epoch 5: TrL=0.8238, TrA=0.7196, VL=0.8383, VA=0.7188, TeL=0.8077, TeA=0.7263\n",
      "Epoch 6: TrL=0.6950, TrA=0.7643, VL=0.7221, VA=0.7571, TeL=0.7840, TeA=0.7369\n",
      "Epoch 7: TrL=0.5529, TrA=0.8174, VL=0.6829, VA=0.7686, TeL=0.6806, TeA=0.7757\n",
      "Epoch 8: TrL=0.4827, TrA=0.8415, VL=0.5839, VA=0.8009, TeL=0.6217, TeA=0.7984\n",
      "Epoch 9: TrL=0.4387, TrA=0.8537, VL=0.6275, VA=0.8105, TeL=0.6289, TeA=0.8095\n",
      "Epoch 10: TrL=0.3811, TrA=0.8736, VL=0.5476, VA=0.8306, TeL=0.5383, TeA=0.8271\n",
      "Epoch 11: TrL=0.4231, TrA=0.8646, VL=0.5693, VA=0.8231, TeL=0.5815, TeA=0.8115\n",
      "Epoch 12: TrL=0.3238, TrA=0.9005, VL=0.5016, VA=0.8402, TeL=0.5181, TeA=0.8337\n",
      "Epoch 13: TrL=0.2907, TrA=0.9096, VL=0.4074, VA=0.8705, TeL=0.4150, TeA=0.8695\n",
      "Epoch 14: TrL=0.2714, TrA=0.9129, VL=0.4261, VA=0.8644, TeL=0.4245, TeA=0.8664\n",
      "Epoch 15: TrL=0.2168, TrA=0.9312, VL=0.4042, VA=0.8705, TeL=0.3887, TeA=0.8795\n",
      "Performance:\n"
     ]
    },
    {
     "data": {
      "image/png": "[encoded data removed]",
      "text/plain": [
       "<Figure size 432x288 with 1 Axes>"
      ]
     },
     "metadata": {
      "needs_background": "light"
     },
     "output_type": "display_data"
    },
    {
     "name": "stdout",
     "output_type": "stream",
     "text": [
      "Epoch 16: TrL=0.2142, TrA=0.9318, VL=0.3477, VA=0.8871, TeL=0.3698, TeA=0.8876\n",
      "Epoch 17: TrL=0.1854, TrA=0.9419, VL=0.4533, VA=0.8725, TeL=0.4259, TeA=0.8770\n",
      "Epoch 18: TrL=0.2476, TrA=0.9269, VL=0.3686, VA=0.8851, TeL=0.3839, TeA=0.8901\n",
      "Epoch 19: TrL=0.1907, TrA=0.9401, VL=0.4754, VA=0.8564, TeL=0.4521, TeA=0.8679\n",
      "Epoch 20: TrL=0.2062, TrA=0.9357, VL=0.3445, VA=0.8947, TeL=0.3719, TeA=0.8891\n",
      "Epoch 21: TrL=0.1788, TrA=0.9438, VL=0.5118, VA=0.8528, TeL=0.4698, TeA=0.8609\n",
      "Epoch 22: TrL=0.1704, TrA=0.9457, VL=0.3626, VA=0.8861, TeL=0.3845, TeA=0.8881\n",
      "Epoch 23: TrL=0.1673, TrA=0.9478, VL=0.3911, VA=0.8841, TeL=0.3847, TeA=0.8916\n",
      "Epoch 24: TrL=0.1221, TrA=0.9649, VL=0.2713, VA=0.9214, TeL=0.3074, TeA=0.9128\n",
      "Epoch 25: TrL=0.0913, TrA=0.9741, VL=0.2987, VA=0.9163, TeL=0.3205, TeA=0.9173\n",
      "Epoch 26: TrL=0.1502, TrA=0.9535, VL=0.4317, VA=0.8720, TeL=0.4070, TeA=0.8821\n",
      "Epoch 27: TrL=0.1357, TrA=0.9559, VL=0.3473, VA=0.9022, TeL=0.3757, TeA=0.9007\n",
      "Epoch 28: TrL=0.1181, TrA=0.9643, VL=0.3169, VA=0.9108, TeL=0.3386, TeA=0.9113\n",
      "Epoch 29: TrL=0.1091, TrA=0.9663, VL=0.4344, VA=0.8886, TeL=0.4762, TeA=0.8795\n",
      "Epoch 30: TrL=0.0943, TrA=0.9728, VL=0.2725, VA=0.9219, TeL=0.2784, TeA=0.9183\n",
      "Performance:\n"
     ]
    },
    {
     "data": {
      "image/png": "[encoded data removed]",
      "text/plain": [
       "<Figure size 432x288 with 1 Axes>"
      ]
     },
     "metadata": {
      "needs_background": "light"
     },
     "output_type": "display_data"
    },
    {
     "name": "stdout",
     "output_type": "stream",
     "text": [
      "Epoch 31: TrL=0.1123, TrA=0.9647, VL=0.2568, VA=0.9259, TeL=0.2744, TeA=0.9163\n",
      "Epoch 32: TrL=0.1124, TrA=0.9643, VL=0.5827, VA=0.8589, TeL=0.5038, TeA=0.8664\n",
      "Epoch 33: TrL=0.1484, TrA=0.9547, VL=0.3725, VA=0.8947, TeL=0.4006, TeA=0.8906\n",
      "Epoch 34: TrL=0.0947, TrA=0.9717, VL=0.3377, VA=0.9148, TeL=0.3217, TeA=0.9133\n",
      "Epoch 35: TrL=0.0667, TrA=0.9813, VL=0.3089, VA=0.9199, TeL=0.2877, TeA=0.9299\n",
      "Epoch 36: TrL=0.0657, TrA=0.9815, VL=0.2174, VA=0.9345, TeL=0.2367, TeA=0.9370\n",
      "Epoch 37: TrL=0.0635, TrA=0.9821, VL=0.3576, VA=0.9047, TeL=0.3408, TeA=0.9073\n",
      "Epoch 38: TrL=0.1268, TrA=0.9600, VL=0.3257, VA=0.9118, TeL=0.3064, TeA=0.9108\n",
      "Epoch 39: TrL=0.0830, TrA=0.9770, VL=0.3280, VA=0.9244, TeL=0.2507, TeA=0.9294\n",
      "Epoch 40: TrL=0.0692, TrA=0.9795, VL=0.2387, VA=0.9294, TeL=0.2422, TeA=0.9299\n",
      "Epoch 41: TrL=0.0642, TrA=0.9801, VL=0.2687, VA=0.9340, TeL=0.2671, TeA=0.9330\n",
      "Epoch 42: TrL=0.0900, TrA=0.9715, VL=0.2501, VA=0.9309, TeL=0.2781, TeA=0.9189\n",
      "Epoch 43: TrL=0.0744, TrA=0.9779, VL=0.4073, VA=0.8972, TeL=0.4249, TeA=0.8982\n",
      "Epoch 44: TrL=0.1029, TrA=0.9718, VL=0.2821, VA=0.9259, TeL=0.2791, TeA=0.9214\n",
      "Epoch 45: TrL=0.0514, TrA=0.9850, VL=0.2817, VA=0.9274, TeL=0.2533, TeA=0.9330\n",
      "Performance:\n"
     ]
    },
    {
     "data": {
      "image/png": "[encoded data removed]",
      "text/plain": [
       "<Figure size 432x288 with 1 Axes>"
      ]
     },
     "metadata": {
      "needs_background": "light"
     },
     "output_type": "display_data"
    },
    {
     "name": "stdout",
     "output_type": "stream",
     "text": [
      "Epoch 46: TrL=0.0578, TrA=0.9823, VL=0.2511, VA=0.9304, TeL=0.2839, TeA=0.9294\n",
      "Epoch 47: TrL=0.0504, TrA=0.9849, VL=0.1980, VA=0.9420, TeL=0.2209, TeA=0.9430\n",
      "Epoch 48: TrL=0.1078, TrA=0.9721, VL=0.3204, VA=0.9057, TeL=0.3269, TeA=0.9128\n",
      "Epoch 49: TrL=0.0849, TrA=0.9757, VL=0.2384, VA=0.9365, TeL=0.2705, TeA=0.9315\n",
      "Epoch 50: TrL=0.0579, TrA=0.9828, VL=0.2764, VA=0.9320, TeL=0.2649, TeA=0.9294\n",
      "Epoch 51: TrL=0.0784, TrA=0.9790, VL=0.2943, VA=0.9219, TeL=0.3229, TeA=0.9083\n",
      "Epoch 52: TrL=0.0811, TrA=0.9764, VL=0.2436, VA=0.9335, TeL=0.2418, TeA=0.9415\n",
      "Epoch 53: TrL=0.0379, TrA=0.9891, VL=0.1757, VA=0.9577, TeL=0.2019, TeA=0.9491\n",
      "Epoch 54: TrL=0.0441, TrA=0.9865, VL=0.4531, VA=0.9027, TeL=0.3448, TeA=0.9158\n",
      "Epoch 55: TrL=0.1013, TrA=0.9699, VL=0.2936, VA=0.9325, TeL=0.3003, TeA=0.9284\n",
      "Epoch 56: TrL=0.0526, TrA=0.9854, VL=0.2416, VA=0.9435, TeL=0.2444, TeA=0.9400\n",
      "Epoch 57: TrL=0.0575, TrA=0.9852, VL=0.2581, VA=0.9335, TeL=0.2491, TeA=0.9380\n",
      "Epoch 58: TrL=0.0881, TrA=0.9737, VL=0.2307, VA=0.9446, TeL=0.2292, TeA=0.9400\n",
      "Epoch 59: TrL=0.0710, TrA=0.9810, VL=0.2213, VA=0.9299, TeL=0.2494, TeA=0.9325\n",
      "Epoch 60: TrL=0.0521, TrA=0.9863, VL=0.2011, VA=0.9501, TeL=0.2342, TeA=0.9365\n",
      "Performance:\n"
     ]
    },
    {
     "data": {
      "image/png": "[encoded data removed]",
      "text/plain": [
       "<Figure size 432x288 with 1 Axes>"
      ]
     },
     "metadata": {
      "needs_background": "light"
     },
     "output_type": "display_data"
    }
   ],
   "source": [
    "train(epochs=60, \n",
    "      printLossesAtEpoch=15, \n",
    "      lstm_units=128, \n",
    "      lstm_layers=1, \n",
    "      embedding_size=126, \n",
    "      num_classes=40, \n",
    "      mini_batch=mini_batch)"
   ]
  },
  {
   "cell_type": "markdown",
   "metadata": {},
   "source": [
    "# Aquire the EEG Embeddings for Each Class"
   ]
  },
  {
   "cell_type": "markdown",
   "metadata": {},
   "source": [
    "### Build the truncated classifier (the encoder)"
   ]
  },
  {
   "cell_type": "code",
   "execution_count": 44,
   "metadata": {},
   "outputs": [],
   "source": [
    "class Encoder(nn.Module):\n",
    "    \"\"\"\n",
    "    The truncated classifier. \n",
    "    \n",
    "    This is the same model as before however in the forward method you can see\n",
    "    the output is 'emb', which is the 126-length embeddings of the EEG.\n",
    "    \n",
    "    \"\"\"\n",
    "\n",
    "    def __init__(self, input_size, lstm_size, lstm_layers, embedding_size, num_classes):\n",
    "        \"\"\"\n",
    "        Instantiate the layers on the PyTorch model.\n",
    "        \"\"\"\n",
    "        super().__init__()\n",
    "        self.lstm = nn.LSTM(input_size, lstm_size, num_layers=lstm_layers, batch_first=True)\n",
    "        self.embedding = nn.Linear(lstm_size, embedding_size)\n",
    "        self.classifier = nn.Linear(embedding_size, num_classes)\n",
    "\n",
    "    def forward(self, x):\n",
    "        \"\"\"\n",
    "        Forward pass of the model. Note that the output is the embeddings, rather\n",
    "        than a classification.\n",
    "        \"\"\"\n",
    "        batch_size = x.size(0)\n",
    "        x = self.lstm(x)[0][:, -1, :]\n",
    "        emb = F.relu(self.embedding(x))\n",
    "        return emb\n",
    "\n",
    "    \n",
    "encoder = Encoder(\n",
    "    input_size=128, \n",
    "    lstm_size=128, \n",
    "    lstm_layers=1, \n",
    "    embedding_size=126, \n",
    "    num_classes=40\n",
    ") \n",
    "\n",
    "# Load the weights into the truncated version of the model\n",
    "encoder.load_state_dict(torch.load('encoder_model.pth'))    \n",
    "pass"
   ]
  },
  {
   "cell_type": "markdown",
   "metadata": {},
   "source": [
    "### Extract Embeddings \n",
    "\n",
    "We calculate the average embedding for each class and save each of these in EEG_emb_average."
   ]
  },
  {
   "cell_type": "code",
   "execution_count": 45,
   "metadata": {},
   "outputs": [],
   "source": [
    "embedding_size=126\n",
    "num_classes=40\n",
    "num_images_per_class = 300\n",
    "EEG_emb_average = np.zeros(shape=(num_classes,embedding_size))\n",
    "\n",
    "for i in range(dataset.size):\n",
    "    eeg_point, label = dataset.__getitem__(i)\n",
    "    embedding = encoder(eeg_point.unsqueeze(0))\n",
    "    embeddings_np = embedding.detach().numpy()\n",
    "    EEG_emb_average[label] = np.add(EEG_emb_tot_np[label], embeddings_np/num_images_per_class)"
   ]
  },
  {
   "cell_type": "markdown",
   "metadata": {},
   "source": [
    "### Plot Embeddings\n",
    "\n",
    "Here we plot the embeddings for classes 'German Shepherd' and 'Banana'.\n",
    "\n",
    "It is clear that these are not one-hot encodings. We theorise that these embeddings may contain more information about the image class than a one-hot encoding."
   ]
  },
  {
   "cell_type": "code",
   "execution_count": 86,
   "metadata": {},
   "outputs": [
    {
     "data": {
      "text/plain": [
       "Text(0.5, 1.0, 'EEG Embedding for Banana')"
      ]
     },
     "execution_count": 86,
     "metadata": {},
     "output_type": "execute_result"
    },
    {
     "data": {
      "image/png": "[encoded data removed]",
      "text/plain": [
       "<Figure size 504x504 with 2 Axes>"
      ]
     },
     "metadata": {
      "needs_background": "light"
     },
     "output_type": "display_data"
    }
   ],
   "source": [
    "fig, axs = plt.subplots(2)\n",
    "fig.set_size_inches(7, 7)\n",
    "axs[0].bar(x, EEG_emb_average[12])\n",
    "axs[0].set_title('EEG Embedding for German Shepherd')\n",
    "axs[1].bar(x, EEG_emb_average[32])\n",
    "axs[1].set_title('EEG Embedding for Banana')"
   ]
  },
  {
   "cell_type": "markdown",
   "metadata": {},
   "source": [
    "### Save the embeddings as numpy files\n",
    "\n",
    "We have the following labels for our image classes. We chose 20 total classes instead of 40 as we don't have the resources to train a GAN with a dataset twice the size.\n",
    "\n",
    "| Image Class  |  Label | \n",
    "|---|---|\n",
    "|Iron|2|\n",
    "|Panda|8|\n",
    "|Daisy|9|\n",
    "|Lycaenid butterfly|11|\n",
    "|German shepherd|12|\n",
    "|Running shoe|13|\n",
    "|Jack-o-lantern|14|\n",
    "|Cellphone|15|\n",
    "|Golf_ball|16|\n",
    "|Broom|18|\n",
    "|Missile|20|\n",
    "|Convertible|24|\n",
    "|Mitten|27|\n",
    "|Electric_guitar|28|\n",
    "|Piano|30|\n",
    "|Banana|32|\n",
    "|Bolete|33|\n",
    "|Airliner|36|\n",
    "|Radio_telescope|38|\n",
    "|Egyptian_cat|39|"
   ]
  },
  {
   "cell_type": "code",
   "execution_count": 81,
   "metadata": {},
   "outputs": [],
   "source": [
    "emb_dir = \"EEG_embeddings/\"\n",
    "\n",
    "np.save(emb_dir + 'eeg_emb_iron',EEG_emb_average[2])\n",
    "np.save(emb_dir + 'eeg_emb_panda',EEG_emb_average[8])\n",
    "np.save(emb_dir + 'eeg_emb_daisy',EEG_emb_average[9])\n",
    "np.save(emb_dir + 'eeg_emb_lycaenid_butterfly',EEG_emb_average[11])\n",
    "np.save(emb_dir + 'eeg_emb_german_shepherd',EEG_emb_average[12])\n",
    "np.save(emb_dir + 'eeg_emb_running_shoe',EEG_emb_average[13])\n",
    "np.save(emb_dir + 'eeg_emb_jack-o-lantern',EEG_emb_average[14])\n",
    "np.save(emb_dir + 'eeg_emb_cellphone',EEG_emb_average[15])\n",
    "np.save(emb_dir + 'eeg_emb_golf_ball',EEG_emb_average[16])\n",
    "np.save(emb_dir + 'eeg_emb_broom',EEG_emb_average[18])\n",
    "np.save(emb_dir + 'eeg_emb_missile',EEG_emb_average[20])\n",
    "np.save(emb_dir + 'eeg_emb_convertible',EEG_emb_average[24])\n",
    "np.save(emb_dir + 'eeg_emb_mitten',EEG_emb_average[27])\n",
    "np.save(emb_dir + 'eeg_emb_electric_guitar',EEG_emb_average[28])\n",
    "np.save(emb_dir + 'eeg_emb_piano',EEG_emb_average[30])\n",
    "np.save(emb_dir + 'eeg_emb_banana',EEG_emb_average[32])\n",
    "np.save(emb_dir + 'eeg_emb_bolete',EEG_emb_average[33])\n",
    "np.save(emb_dir + 'eeg_emb_airliner',EEG_emb_average[36])\n",
    "np.save(emb_dir + 'eeg_emb_radio_telescope',EEG_emb_average[38])\n",
    "np.save(emb_dir + 'eeg_emb_egyptian_cat',EEG_emb_average[39])"
   ]
  }
 ],
 "metadata": {
  "kernelspec": {
   "display_name": "Python 3",
   "language": "python",
   "name": "python3"
  },
  "language_info": {
   "codemirror_mode": {
    "name": "ipython",
    "version": 3
   },
   "file_extension": ".py",
   "mimetype": "text/x-python",
   "name": "python",
   "nbconvert_exporter": "python",
   "pygments_lexer": "ipython3",
   "version": "3.7.1"
  }
 },
 "nbformat": 4,
 "nbformat_minor": 4
}
